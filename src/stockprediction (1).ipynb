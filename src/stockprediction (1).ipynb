{
  "nbformat": 4,
  "nbformat_minor": 0,
  "metadata": {
    "colab": {
      "name": "stockprediction.ipynb",
      "provenance": [],
      "collapsed_sections": []
    },
    "kernelspec": {
      "name": "python3",
      "display_name": "Python 3"
    },
    "accelerator": "GPU"
  },
  "cells": [
    {
      "cell_type": "code",
      "metadata": {
        "id": "FaG9Q4HxeP5m"
      },
      "source": [
        "import math\n",
        "import matplotlib.pyplot as plt\n",
        "import keras\n",
        "import pandas as pd\n",
        "import numpy as np\n",
        "from keras.models import Sequential\n",
        "from keras.layers import Dense\n",
        "from keras.layers import LSTM\n",
        "from keras.layers import Dropout\n",
        "from keras.layers import *\n",
        "from sklearn.preprocessing import MinMaxScaler\n",
        "from sklearn.metrics import mean_squared_error\n",
        "from sklearn.metrics import mean_absolute_error\n",
        "from sklearn.model_selection import train_test_split\n",
        "from keras.callbacks import EarlyStopping"
      ],
      "execution_count": 3,
      "outputs": []
    },
    {
      "cell_type": "code",
      "metadata": {
        "colab": {
          "base_uri": "https://localhost:8080/"
        },
        "id": "fO2JdJBLeYod",
        "outputId": "482938dc-b58a-4bd8-ffe5-529f9d414290"
      },
      "source": [
        "file_name = \"GOOGL\"\n",
        "dataset=pd.read_csv(file_name+\".csv\")\n",
        "print(dataset.head(5))\n",
        "\n"
      ],
      "execution_count": 4,
      "outputs": [
        {
          "output_type": "stream",
          "text": [
            "         Date       High        Low  ...      Volume  Adj Close  Ticker\n",
            "0  2004-08-19  52.082081  48.028027  ...  44659000.0  50.220219   GOOGL\n",
            "1  2004-08-20  54.594593  50.300301  ...  22834300.0  54.209209   GOOGL\n",
            "2  2004-08-23  56.796795  54.579578  ...  18256100.0  54.754753   GOOGL\n",
            "3  2004-08-24  55.855854  51.836838  ...  15247300.0  52.487488   GOOGL\n",
            "4  2004-08-25  54.054054  51.991993  ...   9188600.0  53.053055   GOOGL\n",
            "\n",
            "[5 rows x 8 columns]\n"
          ],
          "name": "stdout"
        }
      ]
    },
    {
      "cell_type": "code",
      "metadata": {
        "colab": {
          "base_uri": "https://localhost:8080/",
          "height": 1000
        },
        "id": "D_VpKF0KfY5k",
        "outputId": "1594bde5-3ebd-4e35-effd-98544e4a450a"
      },
      "source": [
        "training_size = int(len(dataset) * 0.75)\n",
        "test_size = len(dataset) - training_size\n",
        "\n",
        "training_set, test_set = dataset.iloc[0:training_size,1:2].values, dataset.iloc[training_size:,1:2].values\n",
        "\n",
        "\n",
        "sc = MinMaxScaler(feature_range = (0, 1))\n",
        "trainingset_scaled = sc.fit_transform(training_set)\n",
        "print(trainingset_scaled)\n",
        "\n",
        "xtrain = []\n",
        "ytrain = []\n",
        "for i in range(60, len(training_set)):\n",
        "    xtrain.append(trainingset_scaled[i-60:i, 0])\n",
        "    ytrain.append(trainingset_scaled[i, 0])\n",
        "xtrain, ytrain = np.array(xtrain), np.array(ytrain)\n",
        "xtrain = np.reshape(xtrain, (xtrain.shape[0], xtrain.shape[1], 1))\n",
        "\n",
        "lstm_model = Sequential()\n",
        "lstm_model.add(LSTM(units = 50, return_sequences = True, input_shape = (xtrain.shape[1], 1)))\n",
        "lstm_model.add(Dropout(0.2))\n",
        "lstm_model.add(LSTM(units = 50, return_sequences = True))\n",
        "lstm_model.add(Dropout(0.2))\n",
        "lstm_model.add(LSTM(units = 50, return_sequences = True))\n",
        "lstm_model.add(Dropout(0.2))\n",
        "lstm_model.add(LSTM(units = 50))\n",
        "lstm_model.add(Dropout(0.2))\n",
        "lstm_model.add(Dense(units = 1))\n",
        "\n",
        "lstm_model.compile(optimizer = 'adam', loss = 'mean_squared_error')\n",
        "\n",
        "lstm_model.fit(xtrain, ytrain, epochs = 20, batch_size = 32)\n",
        "lstm_model.save('google_model')\n",
        "dataset_train = dataset.iloc[:training_size, 1:2]\n",
        "dataset_test = dataset.iloc[training_size:, 1:2]\n",
        "dataset_total = pd.concat((dataset_train, dataset_test), axis = 0)\n",
        "inputs = dataset_total[len(dataset_total) - len(dataset_test) - 60:].values\n",
        "inputs = inputs.reshape(-1,1)\n",
        "inputs = sc.transform(inputs)\n",
        "print(inputs)\n",
        "xtest = []\n",
        "for i in range(60, len(test_set)+60):\n",
        "    xtest.append(inputs[i-60:i, 0])\n",
        "xtest = np.array(xtest)\n",
        "xtest = np.reshape(xtest, (xtest.shape[0], xtest.shape[1], 1))\n",
        "print(xtest.shape)\n",
        "\n",
        "predicted_values = lstm_model.predict(xtest)\n",
        "predicted_values = sc.inverse_transform(predicted_values)\n",
        "print(len(predicted_values))\n",
        "print(len(dataset_test.values))\n",
        "plt.plot(dataset.loc[training_size:, \"Date\"],dataset_test.values, color = \"red\", label = \"Real {} Stock Price\".format(file_name))\n",
        "plt.plot(dataset.loc[training_size:, \"Date\"],predicted_values, color = \"blue\", label = \"Predicted {} Stock Price\".format(file_name))\n",
        "plt.xticks(np.arange(0,1251,60),rotation='vertical')\n",
        "plt.title('{} Stock Price Prediction'.format(file_name))\n",
        "plt.xlabel('Time')\n",
        "plt.ylabel('{} Stock Price'.format(file_name))\n",
        "plt.legend()\n",
        "plt.show()\n"
      ],
      "execution_count": 5,
      "outputs": [
        {
          "output_type": "stream",
          "text": [
            "[[0.00151008]\n",
            " [0.00477758]\n",
            " [0.00764153]\n",
            " ...\n",
            " [0.9967748 ]\n",
            " [1.        ]\n",
            " [0.99302938]]\n",
            "Epoch 1/20\n",
            "94/94 [==============================] - 1s 14ms/step - loss: 0.0127\n",
            "Epoch 2/20\n",
            "94/94 [==============================] - 1s 12ms/step - loss: 0.0030\n",
            "Epoch 3/20\n",
            "94/94 [==============================] - 1s 13ms/step - loss: 0.0025\n",
            "Epoch 4/20\n",
            "94/94 [==============================] - 1s 13ms/step - loss: 0.0027\n",
            "Epoch 5/20\n",
            "94/94 [==============================] - 1s 13ms/step - loss: 0.0023\n",
            "Epoch 6/20\n",
            "94/94 [==============================] - 1s 13ms/step - loss: 0.0025\n",
            "Epoch 7/20\n",
            "94/94 [==============================] - 1s 12ms/step - loss: 0.0020\n",
            "Epoch 8/20\n",
            "94/94 [==============================] - 1s 12ms/step - loss: 0.0021\n",
            "Epoch 9/20\n",
            "94/94 [==============================] - 1s 12ms/step - loss: 0.0019\n",
            "Epoch 10/20\n",
            "94/94 [==============================] - 1s 12ms/step - loss: 0.0017\n",
            "Epoch 11/20\n",
            "94/94 [==============================] - 1s 13ms/step - loss: 0.0018\n",
            "Epoch 12/20\n",
            "94/94 [==============================] - 1s 13ms/step - loss: 0.0016\n",
            "Epoch 13/20\n",
            "94/94 [==============================] - 1s 12ms/step - loss: 0.0017\n",
            "Epoch 14/20\n",
            "94/94 [==============================] - 1s 12ms/step - loss: 0.0016\n",
            "Epoch 15/20\n",
            "94/94 [==============================] - 1s 13ms/step - loss: 0.0015\n",
            "Epoch 16/20\n",
            "94/94 [==============================] - 1s 13ms/step - loss: 0.0016\n",
            "Epoch 17/20\n",
            "94/94 [==============================] - 1s 14ms/step - loss: 0.0013\n",
            "Epoch 18/20\n",
            "94/94 [==============================] - 1s 13ms/step - loss: 0.0013\n",
            "Epoch 19/20\n",
            "94/94 [==============================] - 1s 14ms/step - loss: 0.0014\n",
            "Epoch 20/20\n",
            "94/94 [==============================] - 1s 13ms/step - loss: 0.0014\n",
            "WARNING:tensorflow:From /usr/local/lib/python3.6/dist-packages/tensorflow/python/training/tracking/tracking.py:111: Model.state_updates (from tensorflow.python.keras.engine.training) is deprecated and will be removed in a future version.\n",
            "Instructions for updating:\n",
            "This property should not be used in TensorFlow 2.0, as updates are applied automatically.\n",
            "WARNING:tensorflow:From /usr/local/lib/python3.6/dist-packages/tensorflow/python/training/tracking/tracking.py:111: Layer.updates (from tensorflow.python.keras.engine.base_layer) is deprecated and will be removed in a future version.\n",
            "Instructions for updating:\n",
            "This property should not be used in TensorFlow 2.0, as updates are applied automatically.\n",
            "INFO:tensorflow:Assets written to: google_model/assets\n",
            "[[0.92298483]\n",
            " [0.91974662]\n",
            " [0.92143724]\n",
            " ...\n",
            " [1.95449706]\n",
            " [1.99992319]\n",
            " [2.12032279]]\n",
            "(1020, 60, 1)\n",
            "1020\n",
            "1020\n"
          ],
          "name": "stdout"
        },
        {
          "output_type": "display_data",
          "data": {
            "image/png": "[encoded data removed]",
            "text/plain": [
              "<Figure size 432x288 with 1 Axes>"
            ]
          },
          "metadata": {
            "tags": [],
            "needs_background": "light"
          }
        }
      ]
    },
    {
      "cell_type": "code",
      "metadata": {
        "id": "H63Zu6BAyq0E"
      },
      "source": [
        "d1 = list(dataset['Date'][training_size:])"
      ],
      "execution_count": 6,
      "outputs": []
    },
    {
      "cell_type": "code",
      "metadata": {
        "id": "-y-BZwoSvqGe"
      },
      "source": [
        "predicted_values = list(predicted_values.flatten())"
      ],
      "execution_count": 7,
      "outputs": []
    },
    {
      "cell_type": "code",
      "metadata": {
        "id": "cPppYJUbpyJ7"
      },
      "source": [
        "test_set = list(test_set.flatten())"
      ],
      "execution_count": 8,
      "outputs": []
    },
    {
      "cell_type": "code",
      "metadata": {
        "id": "eUC-GMJ3q7n6"
      },
      "source": [
        "df = pd.DataFrame(test_set,predicted_values)"
      ],
      "execution_count": 9,
      "outputs": []
    },
    {
      "cell_type": "code",
      "metadata": {
        "id": "HBflszQuyTEr"
      },
      "source": [
        "mydf = pd.DataFrame((zip(test_set, predicted_values,d1)), columns = ['test_set', 'predicted_values','Date'])"
      ],
      "execution_count": 10,
      "outputs": []
    },
    {
      "cell_type": "code",
      "metadata": {
        "colab": {
          "base_uri": "https://localhost:8080/",
          "height": 347
        },
        "id": "PWTag1CAwpPn",
        "outputId": "5aaa2800-e3bc-4adf-cb09-adbd121ab43d"
      },
      "source": [
        "mydf.head(10)"
      ],
      "execution_count": 11,
      "outputs": [
        {
          "output_type": "execute_result",
          "data": {
            "text/html": [
              "<div>\n",
              "<style scoped>\n",
              "    .dataframe tbody tr th:only-of-type {\n",
              "        vertical-align: middle;\n",
              "    }\n",
              "\n",
              "    .dataframe tbody tr th {\n",
              "        vertical-align: top;\n",
              "    }\n",
              "\n",
              "    .dataframe thead th {\n",
              "        text-align: right;\n",
              "    }\n",
              "</style>\n",
              "<table border=\"1\" class=\"dataframe\">\n",
              "  <thead>\n",
              "    <tr style=\"text-align: right;\">\n",
              "      <th></th>\n",
              "      <th>test_set</th>\n",
              "      <th>predicted_values</th>\n",
              "      <th>Date</th>\n",
              "    </tr>\n",
              "  </thead>\n",
              "  <tbody>\n",
              "    <tr>\n",
              "      <th>0</th>\n",
              "      <td>806.559998</td>\n",
              "      <td>773.646118</td>\n",
              "      <td>2016-10-13</td>\n",
              "    </tr>\n",
              "    <tr>\n",
              "      <th>1</th>\n",
              "      <td>810.090027</td>\n",
              "      <td>773.875854</td>\n",
              "      <td>2016-10-14</td>\n",
              "    </tr>\n",
              "    <tr>\n",
              "      <th>2</th>\n",
              "      <td>813.489990</td>\n",
              "      <td>774.140930</td>\n",
              "      <td>2016-10-17</td>\n",
              "    </tr>\n",
              "    <tr>\n",
              "      <th>3</th>\n",
              "      <td>828.809998</td>\n",
              "      <td>774.417969</td>\n",
              "      <td>2016-10-18</td>\n",
              "    </tr>\n",
              "    <tr>\n",
              "      <th>4</th>\n",
              "      <td>829.799988</td>\n",
              "      <td>774.863892</td>\n",
              "      <td>2016-10-19</td>\n",
              "    </tr>\n",
              "    <tr>\n",
              "      <th>5</th>\n",
              "      <td>828.469971</td>\n",
              "      <td>775.612610</td>\n",
              "      <td>2016-10-20</td>\n",
              "    </tr>\n",
              "    <tr>\n",
              "      <th>6</th>\n",
              "      <td>824.289978</td>\n",
              "      <td>776.698914</td>\n",
              "      <td>2016-10-21</td>\n",
              "    </tr>\n",
              "    <tr>\n",
              "      <th>7</th>\n",
              "      <td>837.940002</td>\n",
              "      <td>778.032410</td>\n",
              "      <td>2016-10-24</td>\n",
              "    </tr>\n",
              "    <tr>\n",
              "      <th>8</th>\n",
              "      <td>838.500000</td>\n",
              "      <td>779.627319</td>\n",
              "      <td>2016-10-25</td>\n",
              "    </tr>\n",
              "    <tr>\n",
              "      <th>9</th>\n",
              "      <td>827.710022</td>\n",
              "      <td>781.472534</td>\n",
              "      <td>2016-10-26</td>\n",
              "    </tr>\n",
              "  </tbody>\n",
              "</table>\n",
              "</div>"
            ],
            "text/plain": [
              "     test_set  predicted_values        Date\n",
              "0  806.559998        773.646118  2016-10-13\n",
              "1  810.090027        773.875854  2016-10-14\n",
              "2  813.489990        774.140930  2016-10-17\n",
              "3  828.809998        774.417969  2016-10-18\n",
              "4  829.799988        774.863892  2016-10-19\n",
              "5  828.469971        775.612610  2016-10-20\n",
              "6  824.289978        776.698914  2016-10-21\n",
              "7  837.940002        778.032410  2016-10-24\n",
              "8  838.500000        779.627319  2016-10-25\n",
              "9  827.710022        781.472534  2016-10-26"
            ]
          },
          "metadata": {
            "tags": []
          },
          "execution_count": 11
        }
      ]
    },
    {
      "cell_type": "code",
      "metadata": {
        "colab": {
          "base_uri": "https://localhost:8080/",
          "height": 347
        },
        "id": "pbgP_iJ0pLM-",
        "outputId": "d74461ee-27b8-4d8f-cf81-0cb2bde421ba"
      },
      "source": [
        "mydf.tail(10)"
      ],
      "execution_count": 12,
      "outputs": [
        {
          "output_type": "execute_result",
          "data": {
            "text/html": [
              "<div>\n",
              "<style scoped>\n",
              "    .dataframe tbody tr th:only-of-type {\n",
              "        vertical-align: middle;\n",
              "    }\n",
              "\n",
              "    .dataframe tbody tr th {\n",
              "        vertical-align: top;\n",
              "    }\n",
              "\n",
              "    .dataframe thead th {\n",
              "        text-align: right;\n",
              "    }\n",
              "</style>\n",
              "<table border=\"1\" class=\"dataframe\">\n",
              "  <thead>\n",
              "    <tr style=\"text-align: right;\">\n",
              "      <th></th>\n",
              "      <th>test_set</th>\n",
              "      <th>predicted_values</th>\n",
              "      <th>Date</th>\n",
              "    </tr>\n",
              "  </thead>\n",
              "  <tbody>\n",
              "    <tr>\n",
              "      <th>1010</th>\n",
              "      <td>1583.930054</td>\n",
              "      <td>1171.042725</td>\n",
              "      <td>2020-10-19</td>\n",
              "    </tr>\n",
              "    <tr>\n",
              "      <th>1011</th>\n",
              "      <td>1573.839966</td>\n",
              "      <td>1174.717651</td>\n",
              "      <td>2020-10-20</td>\n",
              "    </tr>\n",
              "    <tr>\n",
              "      <th>1012</th>\n",
              "      <td>1615.140015</td>\n",
              "      <td>1178.005493</td>\n",
              "      <td>2020-10-21</td>\n",
              "    </tr>\n",
              "    <tr>\n",
              "      <th>1013</th>\n",
              "      <td>1613.420044</td>\n",
              "      <td>1180.976074</td>\n",
              "      <td>2020-10-22</td>\n",
              "    </tr>\n",
              "    <tr>\n",
              "      <th>1014</th>\n",
              "      <td>1634.119995</td>\n",
              "      <td>1183.680908</td>\n",
              "      <td>2020-10-23</td>\n",
              "    </tr>\n",
              "    <tr>\n",
              "      <th>1015</th>\n",
              "      <td>1629.579956</td>\n",
              "      <td>1186.229980</td>\n",
              "      <td>2020-10-26</td>\n",
              "    </tr>\n",
              "    <tr>\n",
              "      <th>1016</th>\n",
              "      <td>1602.000000</td>\n",
              "      <td>1188.640747</td>\n",
              "      <td>2020-10-27</td>\n",
              "    </tr>\n",
              "    <tr>\n",
              "      <th>1017</th>\n",
              "      <td>1553.810059</td>\n",
              "      <td>1190.745239</td>\n",
              "      <td>2020-10-28</td>\n",
              "    </tr>\n",
              "    <tr>\n",
              "      <th>1018</th>\n",
              "      <td>1588.739990</td>\n",
              "      <td>1192.189453</td>\n",
              "      <td>2020-10-29</td>\n",
              "    </tr>\n",
              "    <tr>\n",
              "      <th>1019</th>\n",
              "      <td>1681.319946</td>\n",
              "      <td>1192.961426</td>\n",
              "      <td>2020-10-30</td>\n",
              "    </tr>\n",
              "  </tbody>\n",
              "</table>\n",
              "</div>"
            ],
            "text/plain": [
              "         test_set  predicted_values        Date\n",
              "1010  1583.930054       1171.042725  2020-10-19\n",
              "1011  1573.839966       1174.717651  2020-10-20\n",
              "1012  1615.140015       1178.005493  2020-10-21\n",
              "1013  1613.420044       1180.976074  2020-10-22\n",
              "1014  1634.119995       1183.680908  2020-10-23\n",
              "1015  1629.579956       1186.229980  2020-10-26\n",
              "1016  1602.000000       1188.640747  2020-10-27\n",
              "1017  1553.810059       1190.745239  2020-10-28\n",
              "1018  1588.739990       1192.189453  2020-10-29\n",
              "1019  1681.319946       1192.961426  2020-10-30"
            ]
          },
          "metadata": {
            "tags": []
          },
          "execution_count": 12
        }
      ]
    },
    {
      "cell_type": "code",
      "metadata": {
        "id": "y4UvNeVl5e4o"
      },
      "source": [
        "mydf.to_csv('predictions.csv',index = None)"
      ],
      "execution_count": 13,
      "outputs": []
    }
  ]
}