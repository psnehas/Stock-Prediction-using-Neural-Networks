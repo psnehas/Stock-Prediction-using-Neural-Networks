{
 "cells": [
  {
   "cell_type": "code",
   "execution_count": 12,
   "metadata": {},
   "outputs": [],
   "source": [
    "import numpy as np\n",
    "import pandas as pd\n",
    "from matplotlib import pyplot as plt\n"
   ]
  },
  {
   "cell_type": "code",
   "execution_count": 38,
   "metadata": {},
   "outputs": [
    {
     "data": {
      "text/html": [
       "<div>\n",
       "<style scoped>\n",
       "    .dataframe tbody tr th:only-of-type {\n",
       "        vertical-align: middle;\n",
       "    }\n",
       "\n",
       "    .dataframe tbody tr th {\n",
       "        vertical-align: top;\n",
       "    }\n",
       "\n",
       "    .dataframe thead th {\n",
       "        text-align: right;\n",
       "    }\n",
       "</style>\n",
       "<table border=\"1\" class=\"dataframe\">\n",
       "  <thead>\n",
       "    <tr style=\"text-align: right;\">\n",
       "      <th></th>\n",
       "      <th>Date</th>\n",
       "      <th>Ticker</th>\n",
       "      <th>TimeBarStart</th>\n",
       "      <th>FirstTradePrice</th>\n",
       "      <th>HighTradePrice</th>\n",
       "      <th>LowTradePrice</th>\n",
       "      <th>LastTradePrice</th>\n",
       "      <th>VolumeWeightPrice</th>\n",
       "      <th>Volume</th>\n",
       "      <th>TotalTrades</th>\n",
       "    </tr>\n",
       "  </thead>\n",
       "  <tbody>\n",
       "    <tr>\n",
       "      <th>0</th>\n",
       "      <td>20070103</td>\n",
       "      <td>AAPL</td>\n",
       "      <td>04:15</td>\n",
       "      <td>86.33</td>\n",
       "      <td>86.33</td>\n",
       "      <td>86.01</td>\n",
       "      <td>86.01</td>\n",
       "      <td>86.20930</td>\n",
       "      <td>4300</td>\n",
       "      <td>8</td>\n",
       "    </tr>\n",
       "    <tr>\n",
       "      <th>1</th>\n",
       "      <td>20070103</td>\n",
       "      <td>AAPL</td>\n",
       "      <td>06:07</td>\n",
       "      <td>86.25</td>\n",
       "      <td>86.25</td>\n",
       "      <td>86.25</td>\n",
       "      <td>86.25</td>\n",
       "      <td>86.25000</td>\n",
       "      <td>100</td>\n",
       "      <td>1</td>\n",
       "    </tr>\n",
       "    <tr>\n",
       "      <th>2</th>\n",
       "      <td>20070103</td>\n",
       "      <td>AAPL</td>\n",
       "      <td>06:08</td>\n",
       "      <td>86.05</td>\n",
       "      <td>86.05</td>\n",
       "      <td>86.00</td>\n",
       "      <td>86.04</td>\n",
       "      <td>86.01666</td>\n",
       "      <td>4860</td>\n",
       "      <td>8</td>\n",
       "    </tr>\n",
       "    <tr>\n",
       "      <th>3</th>\n",
       "      <td>20070103</td>\n",
       "      <td>AAPL</td>\n",
       "      <td>06:49</td>\n",
       "      <td>86.04</td>\n",
       "      <td>86.04</td>\n",
       "      <td>86.04</td>\n",
       "      <td>86.04</td>\n",
       "      <td>86.04000</td>\n",
       "      <td>200</td>\n",
       "      <td>2</td>\n",
       "    </tr>\n",
       "    <tr>\n",
       "      <th>4</th>\n",
       "      <td>20070103</td>\n",
       "      <td>AAPL</td>\n",
       "      <td>07:03</td>\n",
       "      <td>86.20</td>\n",
       "      <td>86.20</td>\n",
       "      <td>86.20</td>\n",
       "      <td>86.20</td>\n",
       "      <td>86.20000</td>\n",
       "      <td>1000</td>\n",
       "      <td>2</td>\n",
       "    </tr>\n",
       "  </tbody>\n",
       "</table>\n",
       "</div>"
      ],
      "text/plain": [
       "       Date Ticker TimeBarStart  FirstTradePrice  HighTradePrice  \\\n",
       "0  20070103   AAPL        04:15            86.33           86.33   \n",
       "1  20070103   AAPL        06:07            86.25           86.25   \n",
       "2  20070103   AAPL        06:08            86.05           86.05   \n",
       "3  20070103   AAPL        06:49            86.04           86.04   \n",
       "4  20070103   AAPL        07:03            86.20           86.20   \n",
       "\n",
       "   LowTradePrice  LastTradePrice  VolumeWeightPrice  Volume  TotalTrades  \n",
       "0          86.01           86.01           86.20930    4300            8  \n",
       "1          86.25           86.25           86.25000     100            1  \n",
       "2          86.00           86.04           86.01666    4860            8  \n",
       "3          86.04           86.04           86.04000     200            2  \n",
       "4          86.20           86.20           86.20000    1000            2  "
      ]
     },
     "execution_count": 38,
     "metadata": {},
     "output_type": "execute_result"
    }
   ],
   "source": [
    "df = pd.read_csv(\"AAPL_01_03.csv\")\n",
    "df.head()"
   ]
  },
  {
   "cell_type": "code",
   "execution_count": 22,
   "metadata": {},
   "outputs": [
    {
     "data": {
      "text/html": [
       "<div>\n",
       "<style scoped>\n",
       "    .dataframe tbody tr th:only-of-type {\n",
       "        vertical-align: middle;\n",
       "    }\n",
       "\n",
       "    .dataframe tbody tr th {\n",
       "        vertical-align: top;\n",
       "    }\n",
       "\n",
       "    .dataframe thead th {\n",
       "        text-align: right;\n",
       "    }\n",
       "</style>\n",
       "<table border=\"1\" class=\"dataframe\">\n",
       "  <thead>\n",
       "    <tr style=\"text-align: right;\">\n",
       "      <th></th>\n",
       "      <th>Date</th>\n",
       "      <th>Ticker</th>\n",
       "      <th>TimeBarStart</th>\n",
       "      <th>FirstTradePrice</th>\n",
       "      <th>HighTradePrice</th>\n",
       "      <th>LowTradePrice</th>\n",
       "      <th>LastTradePrice</th>\n",
       "      <th>VolumeWeightPrice</th>\n",
       "      <th>Volume</th>\n",
       "      <th>TotalTrades</th>\n",
       "    </tr>\n",
       "  </thead>\n",
       "  <tbody>\n",
       "    <tr>\n",
       "      <th>0</th>\n",
       "      <td>20070103</td>\n",
       "      <td>ABMD</td>\n",
       "      <td>09:30</td>\n",
       "      <td>14.22</td>\n",
       "      <td>14.22</td>\n",
       "      <td>14.16</td>\n",
       "      <td>14.17</td>\n",
       "      <td>14.20108</td>\n",
       "      <td>3717</td>\n",
       "      <td>5</td>\n",
       "    </tr>\n",
       "    <tr>\n",
       "      <th>1</th>\n",
       "      <td>20070103</td>\n",
       "      <td>ABMD</td>\n",
       "      <td>09:32</td>\n",
       "      <td>14.17</td>\n",
       "      <td>14.26</td>\n",
       "      <td>14.17</td>\n",
       "      <td>14.26</td>\n",
       "      <td>14.23561</td>\n",
       "      <td>656</td>\n",
       "      <td>4</td>\n",
       "    </tr>\n",
       "    <tr>\n",
       "      <th>2</th>\n",
       "      <td>20070103</td>\n",
       "      <td>ABMD</td>\n",
       "      <td>09:33</td>\n",
       "      <td>14.35</td>\n",
       "      <td>14.46</td>\n",
       "      <td>14.35</td>\n",
       "      <td>14.46</td>\n",
       "      <td>14.44429</td>\n",
       "      <td>700</td>\n",
       "      <td>6</td>\n",
       "    </tr>\n",
       "    <tr>\n",
       "      <th>3</th>\n",
       "      <td>20070103</td>\n",
       "      <td>ABMD</td>\n",
       "      <td>09:34</td>\n",
       "      <td>14.46</td>\n",
       "      <td>14.46</td>\n",
       "      <td>14.28</td>\n",
       "      <td>14.28</td>\n",
       "      <td>14.32978</td>\n",
       "      <td>4601</td>\n",
       "      <td>23</td>\n",
       "    </tr>\n",
       "    <tr>\n",
       "      <th>4</th>\n",
       "      <td>20070103</td>\n",
       "      <td>ABMD</td>\n",
       "      <td>09:35</td>\n",
       "      <td>14.38</td>\n",
       "      <td>14.38</td>\n",
       "      <td>14.33</td>\n",
       "      <td>14.35</td>\n",
       "      <td>14.36000</td>\n",
       "      <td>800</td>\n",
       "      <td>6</td>\n",
       "    </tr>\n",
       "  </tbody>\n",
       "</table>\n",
       "</div>"
      ],
      "text/plain": [
       "       Date Ticker TimeBarStart  FirstTradePrice  HighTradePrice  \\\n",
       "0  20070103   ABMD        09:30            14.22           14.22   \n",
       "1  20070103   ABMD        09:32            14.17           14.26   \n",
       "2  20070103   ABMD        09:33            14.35           14.46   \n",
       "3  20070103   ABMD        09:34            14.46           14.46   \n",
       "4  20070103   ABMD        09:35            14.38           14.38   \n",
       "\n",
       "   LowTradePrice  LastTradePrice  VolumeWeightPrice  Volume  TotalTrades  \n",
       "0          14.16           14.17           14.20108    3717            5  \n",
       "1          14.17           14.26           14.23561     656            4  \n",
       "2          14.35           14.46           14.44429     700            6  \n",
       "3          14.28           14.28           14.32978    4601           23  \n",
       "4          14.33           14.35           14.36000     800            6  "
      ]
     },
     "execution_count": 22,
     "metadata": {},
     "output_type": "execute_result"
    }
   ],
   "source": [
    "df2 = pd.read_csv(\"ABMD.csv\")\n",
    "df2.head()"
   ]
  },
  {
   "cell_type": "code",
   "execution_count": 29,
   "metadata": {},
   "outputs": [
    {
     "name": "stdout",
     "output_type": "stream",
     "text": [
      "    Ticker TimeBarStart\n",
      "0     AAPL        04:15\n",
      "1     AAPL        06:07\n",
      "2     AAPL        06:08\n",
      "3     AAPL        06:49\n",
      "4     AAPL        07:03\n",
      "..     ...          ...\n",
      "609   AAPL        19:52\n",
      "610   AAPL        19:53\n",
      "611   AAPL        19:57\n",
      "612   AAPL        19:58\n",
      "613   AAPL        19:59\n",
      "\n",
      "[614 rows x 2 columns]\n",
      "    Ticker TimeBarStart\n",
      "0     ABMD        09:30\n",
      "1     ABMD        09:32\n",
      "2     ABMD        09:33\n",
      "3     ABMD        09:34\n",
      "4     ABMD        09:35\n",
      "..     ...          ...\n",
      "259   ABMD        15:57\n",
      "260   ABMD        15:58\n",
      "261   ABMD        15:59\n",
      "262   ABMD        16:00\n",
      "263   ABMD        17:04\n",
      "\n",
      "[264 rows x 2 columns]\n"
     ]
    }
   ],
   "source": [
    "#both Ticker's have data collected at varied times --\n",
    "#hence sticking to concatenate all the avilable data(all days) of ONE ticker and work on it\n",
    "t1 = df[['Ticker','TimeBarStart']]\n",
    "t2 = df2[['Ticker','TimeBarStart']]\n",
    "print(t1)\n",
    "print(t2)\n"
   ]
  },
  {
   "cell_type": "code",
   "execution_count": 30,
   "metadata": {},
   "outputs": [
    {
     "data": {
      "text/plain": [
       "<function matplotlib.pyplot.show(*args, **kw)>"
      ]
     },
     "execution_count": 30,
     "metadata": {},
     "output_type": "execute_result"
    },
    {
     "data": {
      "image/png": "[encoded data removed]",
      "text/plain": [
       "<Figure size 432x288 with 1 Axes>"
      ]
     },
     "metadata": {
      "needs_background": "light"
     },
     "output_type": "display_data"
    }
   ],
   "source": [
    "#price variation in a day(20070103) for AAPL\n",
    "%matplotlib inline\n",
    "x = df['TimeBarStart']\n",
    "y = df['LastTradePrice']\n",
    "plt.plot(x,y)\n",
    "plt.xlabel(\"Time\")\n",
    "plt.ylabel(\"LastTradePrice\")\n",
    "plt.show"
   ]
  },
  {
   "cell_type": "code",
   "execution_count": 45,
   "metadata": {},
   "outputs": [],
   "source": [
    "df3 = pd.read_csv(\"AAPL_01_04.csv\")"
   ]
  },
  {
   "cell_type": "code",
   "execution_count": 48,
   "metadata": {},
   "outputs": [
    {
     "data": {
      "text/plain": [
       "<function matplotlib.pyplot.show(*args, **kw)>"
      ]
     },
     "execution_count": 48,
     "metadata": {},
     "output_type": "execute_result"
    },
    {
     "data": {
      "image/png": "[encoded data removed]",
      "text/plain": [
       "<Figure size 432x288 with 1 Axes>"
      ]
     },
     "metadata": {
      "needs_background": "light"
     },
     "output_type": "display_data"
    }
   ],
   "source": [
    "#sample price variation of AAPLY for 2 consecutive days\n",
    "\n",
    "x = df['TimeBarStart']\n",
    "y = df['LastTradePrice']\n",
    "x2 = df3['TimeBarStart']\n",
    "y2 = df3['LastTradePrice']\n",
    "plt.plot(x,y,label = 'day1',color = 'b')\n",
    "plt.plot(x2,y2,label = 'day2',color = 'r')\n",
    "plt.title(\"sample price variation in two consecutive days\")\n",
    "plt.xlabel(\"Time\")\n",
    "plt.ylabel(\"LastTradePrice\")\n",
    "plt.show\n"
   ]
  },
  {
   "cell_type": "code",
   "execution_count": 43,
   "metadata": {},
   "outputs": [
    {
     "data": {
      "text/plain": [
       "<function matplotlib.pyplot.show(*args, **kw)>"
      ]
     },
     "execution_count": 43,
     "metadata": {},
     "output_type": "execute_result"
    },
    {
     "data": {
      "image/png": "[encoded data removed]",
      "text/plain": [
       "<Figure size 432x288 with 1 Axes>"
      ]
     },
     "metadata": {
      "needs_background": "light"
     },
     "output_type": "display_data"
    }
   ],
   "source": [
    "#day2 variation\n",
    "%matplotlib inline\n",
    "x = df3['TimeBarStart']\n",
    "y = df3['LastTradePrice']\n",
    "plt.plot(x,y)\n",
    "plt.xlabel(\"Time\")\n",
    "plt.ylabel(\"LastTradePrice\")\n",
    "plt.show"
   ]
  },
  {
   "cell_type": "code",
   "execution_count": null,
   "metadata": {},
   "outputs": [],
   "source": []
  }
 ],
 "metadata": {
  "kernelspec": {
   "display_name": "Python 3",
   "language": "python",
   "name": "python3"
  },
  "language_info": {
   "codemirror_mode": {
    "name": "ipython",
    "version": 3
   },
   "file_extension": ".py",
   "mimetype": "text/x-python",
   "name": "python",
   "nbconvert_exporter": "python",
   "pygments_lexer": "ipython3",
   "version": "3.7.4"
  }
 },
 "nbformat": 4,
 "nbformat_minor": 2
}
