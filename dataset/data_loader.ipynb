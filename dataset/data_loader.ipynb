{
 "metadata": {
  "language_info": {
   "codemirror_mode": {
    "name": "ipython",
    "version": 3
   },
   "file_extension": ".py",
   "mimetype": "text/x-python",
   "name": "python",
   "nbconvert_exporter": "python",
   "pygments_lexer": "ipython3",
   "version": "3.7.6-final"
  },
  "orig_nbformat": 2,
  "kernelspec": {
   "name": "python3",
   "display_name": "Python 3"
  }
 },
 "nbformat": 4,
 "nbformat_minor": 2,
 "cells": [
  {
   "cell_type": "code",
   "execution_count": null,
   "metadata": {},
   "outputs": [],
   "source": [
    "# !pip install pandas_datareader"
   ]
  },
  {
   "cell_type": "code",
   "execution_count": null,
   "metadata": {},
   "outputs": [],
   "source": [
    "import pandas_datareader as pdr\n",
    "import datetime"
   ]
  },
  {
   "cell_type": "code",
   "execution_count": null,
   "metadata": {},
   "outputs": [],
   "source": [
    "start_date = datetime.datetime(2006,1,1)\n",
    "end_date = datetime.datetime(2020,10,31)\n",
    "start_date_str = str(start_date.date())\n",
    "end_date_str = str(end_date.date())\n"
   ]
  },
  {
   "cell_type": "code",
   "execution_count": null,
   "metadata": {},
   "outputs": [],
   "source": [
    "stocks = ['AAPL','ABMD','ADBE','ALGN','ALGT','ALXN','AMGN','AMZN','ATRI','ATVI','BA','BIDU','BIIB','CAT', 'CMG','CSGP','CSCO', 'CVX', 'EBAY','EQIX','EXPE','FFIV','FSLR','GE','GOOGL','GS', 'HD', 'IBM', 'INTC','ILMN','INCY','INTU','IPGP','ISRG','JPM','LRCX','MA','MSFT','NFLX','NKE','NVDA','PFE','PG','REGN','SIVB','SRCL','SSYS','UNH','VRTX','VZ', 'WMT','WYNN']"
   ]
  },
  {
   "cell_type": "code",
   "execution_count": null,
   "metadata": {},
   "outputs": [],
   "source": [
    "# 'AABA','AAPL','ABMD','ADBE','ALGN','ALGT','ALXN','AMGN','AMZN','ATRI','ATVI','BA','BIDU','BIIB','CAT', 'CELG','CMG','CSGP','CSCO','CTRP', 'CVX', 'EBAY','EQIX','EXPE','FFIV','FSLR','GE','GOOGL','GS', 'HD', 'IBM', 'INTC','ILMN','INCY','INTU','IPGP','ISRG','JPM','LRCX','MA','MSFT','NFLX','NKE','NVDA','PCLN','PFE','PG','PNRA','REGN','SIVB','SRCL','SSYS','ULTI','UNH','VRTX','VZ', 'WMT','WYNN'"
   ]
  },
  {
   "cell_type": "code",
   "execution_count": null,
   "metadata": {},
   "outputs": [],
   "source": [
    "for ticker in stocks:\n",
    "    try:\n",
    "        file_name = 'data/' + ticker + '_' + start_date_str + '_to_' + end_date_str + '.csv'\n",
    "        print(file_name)\n",
    "        data = pdr.DataReader(ticker, 'yahoo', start_date, end_date)\n",
    "        print(data.shape)\n",
    "        data.to_csv(file_name)\n",
    "    except KeyError:\n",
    "        pass\n"
   ]
  },
  {
   "cell_type": "code",
   "execution_count": null,
   "metadata": {},
   "outputs": [],
   "source": [
    "import pandas as pd"
   ]
  },
  {
   "cell_type": "code",
   "execution_count": null,
   "metadata": {},
   "outputs": [],
   "source": [
    "for (i, ticker) in enumerate(stocks):\n",
    "    try:\n",
    "        file_name = 'data/' + ticker + '_' + start_date_str + '_to_' + end_date_str + '.csv'\n",
    "        print(file_name)\n",
    "        data = pd.read_csv(file_name, parse_dates=['Date'], index_col=['Date'])\n",
    "        print(data.shape)\n",
    "        data['Ticker'] = ticker\n",
    "        data.to_csv(file_name)\n",
    "        \n",
    "        if i == 0:\n",
    "            all_stocks = data\n",
    "        else:\n",
    "            all_stocks = all_stocks.append(data)\n",
    "    except KeyError:\n",
    "        pass"
   ]
  },
  {
   "cell_type": "code",
   "execution_count": null,
   "metadata": {},
   "outputs": [],
   "source": [
    "all_stocks_file_name = 'all_stocks_' + start_date_str + '_to_' + end_date_str + '.csv'\n",
    "all_stocks_by_date_file_name = 'all_stocks_by_date_' + start_date_str + '_to_' + end_date_str + '.csv'\n",
    "all_stocks.to_csv(all_stocks_file_name)\n",
    "all_stocks.sort_values(by=['Date']).to_csv(all_stocks_by_date_file_name)"
   ]
  },
  {
   "cell_type": "code",
   "execution_count": null,
   "metadata": {},
   "outputs": [],
   "source": [
    "print(all_stocks.shape)"
   ]
  },
  {
   "cell_type": "code",
   "execution_count": null,
   "metadata": {},
   "outputs": [],
   "source": [
    "all_stocks = pd.read_csv(all_stocks_file_name)\n",
    "all_stocks_by_date = pd.read_csv(all_stocks_by_date_file_name)"
   ]
  },
  {
   "cell_type": "code",
   "execution_count": null,
   "metadata": {},
   "outputs": [],
   "source": [
    "all_stocks.head(10)\n"
   ]
  },
  {
   "cell_type": "code",
   "execution_count": null,
   "metadata": {},
   "outputs": [],
   "source": [
    "all_stocks_by_date.head(10)"
   ]
  },
  {
   "cell_type": "code",
   "execution_count": null,
   "metadata": {},
   "outputs": [],
   "source": []
  }
 ]
}